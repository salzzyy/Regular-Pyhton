{
 "cells": [
  {
   "cell_type": "markdown",
   "metadata": {},
   "source": [
    "### FUNCTIONS\n",
    "* A function is a block of reusable code that performs a specific task.\n",
    "* Functions help reuce redundancy, make the code modular, improve readiblity."
   ]
  },
  {
   "cell_type": "code",
   "execution_count": null,
   "metadata": {},
   "outputs": [],
   "source": [
    "#syntax: \n",
    "def funtion_name(parameters):\n",
    "    #Function Body \n",
    "    return value #(optional)"
   ]
  },
  {
   "cell_type": "markdown",
   "metadata": {},
   "source": []
  },
  {
   "cell_type": "markdown",
   "metadata": {},
   "source": [
    "### Tpes of functions:\n",
    "* Buitl-In functions:Predefined fuhnctions in Python, eg. len(), print(),type()\n",
    "* User-defined Functions:Created by the programmer."
   ]
  },
  {
   "cell_type": "code",
   "execution_count": 1,
   "metadata": {},
   "outputs": [
    {
     "name": "stdout",
     "output_type": "stream",
     "text": [
      "Hello, Alice\n"
     ]
    }
   ],
   "source": [
    "#Creating and calling Functions->\n",
    "\n",
    "def greet(name):\n",
    "    print('Hello,', name)\n",
    "\n",
    "greet('Alice') # Calling the function with argument 'Alice'"
   ]
  },
  {
   "cell_type": "markdown",
   "metadata": {},
   "source": [
    "### Parameters and Arguments:\n",
    "* Positional Arguments: Passed in order.\n",
    "* Keyword Arguments:Specifiedwith parameter names.\n",
    "* Defualt Arguments: Have default value if not passed\n",
    "* Varible-lenght Arguments:\n",
    "    * *args: Allows variable number of positional arguments.\n",
    "    * **kwargs: Allows variable number of keyword arguments."
   ]
  },
  {
   "cell_type": "code",
   "execution_count": null,
   "metadata": {},
   "outputs": [
    {
     "name": "stdout",
     "output_type": "stream",
     "text": [
      "Nmae: John, Age :30\n",
      "Hobbies ('Reading', 'Travelling')\n",
      "Details: {'profession': 'Engineer'}\n"
     ]
    }
   ],
   "source": [
    "#Example:\n",
    "def describing_person(name, age = 25, *hobbies, **details):\n",
    "    print(f\"Nmae: {name}, Age :{age}\")\n",
    "    print(\"Hobbies\", hobbies)\n",
    "    print(\"Details:\", details)\n",
    "\n",
    "describing_person(\"John\", 30 ,\"Reading\", \"Travelling\", profession=\"Engineer\")\n",
    "\n",
    "\n",
    "# Nmae: John, Age :30\n",
    "# Hobbies ('Reading', 'Travelling')\n",
    "# Details: {'profession': 'Engineer'}\n",
    "\n",
    "\n",
    "    "
   ]
  },
  {
   "cell_type": "markdown",
   "metadata": {},
   "source": [
    "### Return Statement\n",
    "The return statement exists a funstion and optionally returns a value."
   ]
  },
  {
   "cell_type": "code",
   "execution_count": 4,
   "metadata": {},
   "outputs": [
    {
     "name": "stdout",
     "output_type": "stream",
     "text": [
      "7\n"
     ]
    }
   ],
   "source": [
    "#Example:\n",
    "def add(a,b):\n",
    "    return a + b\n",
    "result = add(3,4)\n",
    "\n",
    "print(result) #7"
   ]
  },
  {
   "cell_type": "markdown",
   "metadata": {},
   "source": [
    "### Scope of Vriables:\n",
    "* Local Scope: Varibles inside a function\n",
    "* Global Scope: Varible defined outside any function."
   ]
  },
  {
   "cell_type": "code",
   "execution_count": 5,
   "metadata": {},
   "outputs": [
    {
     "name": "stdout",
     "output_type": "stream",
     "text": [
      "5\n",
      "10\n"
     ]
    }
   ],
   "source": [
    "x= 10 #Global varible\n",
    "\n",
    "def example():\n",
    "    x= 5   #Global varible\n",
    "    print(x)\n",
    "\n",
    "example() #5\n",
    "print(x) #10"
   ]
  },
  {
   "cell_type": "markdown",
   "metadata": {},
   "source": [
    "### Lambda Functions:\n",
    "* Anonymous Functions created with the lambda keyword.\n",
    "* Useful for short, single-expression functions."
   ]
  },
  {
   "cell_type": "code",
   "execution_count": 6,
   "metadata": {},
   "outputs": [
    {
     "data": {
      "text/plain": [
       "<function __main__.<lambda>(arguments)>"
      ]
     },
     "execution_count": 6,
     "metadata": {},
     "output_type": "execute_result"
    }
   ],
   "source": [
    "#Syntax:\n",
    "lambda arguments: expression"
   ]
  },
  {
   "cell_type": "code",
   "execution_count": 9,
   "metadata": {},
   "outputs": [
    {
     "name": "stdout",
     "output_type": "stream",
     "text": [
      "16\n"
     ]
    }
   ],
   "source": [
    "#example:\n",
    "square = lambda x:x**2 \n",
    "print(square(4))  #16"
   ]
  },
  {
   "cell_type": "markdown",
   "metadata": {},
   "source": []
  },
  {
   "cell_type": "markdown",
   "metadata": {},
   "source": [
    "### Higher order Functions:\n",
    "* Functions that take other functions as arguments or return functions.\n",
    "* examples: map(), filter(), reduce()"
   ]
  },
  {
   "cell_type": "code",
   "execution_count": null,
   "metadata": {},
   "outputs": [
    {
     "name": "stdout",
     "output_type": "stream",
     "text": [
      "[1, 4, 9, 16, 25, 36, 49, 64, 81]\n"
     ]
    }
   ],
   "source": [
    "#example:\n",
    "number = [1,2,3,4,5,6,7,8,9]\n",
    "squares = map(lambda x:x**2, number)\n",
    "print(list(squares))  #[1, 4, 9, 16, 25, 36, 49, 64, 81]#"
   ]
  },
  {
   "cell_type": "markdown",
   "metadata": {},
   "source": [
    "### Recursion\n",
    "* A function calling itself.\n",
    "* Usefeul for problems like factorial, Fibonacci, etc"
   ]
  },
  {
   "cell_type": "code",
   "execution_count": 11,
   "metadata": {},
   "outputs": [
    {
     "name": "stdout",
     "output_type": "stream",
     "text": [
      "120\n"
     ]
    }
   ],
   "source": [
    "#example:\n",
    "\n",
    "def factorial(n):\n",
    "    if n ==1:\n",
    "        return 1\n",
    "    return n * factorial(n-1)\n",
    "\n",
    "print(factorial(5)) #120"
   ]
  },
  {
   "cell_type": "markdown",
   "metadata": {},
   "source": [
    "### Decorators:\n",
    "* Functions that modify the behavior of other functions."
   ]
  },
  {
   "cell_type": "code",
   "execution_count": null,
   "metadata": {},
   "outputs": [
    {
     "name": "stdout",
     "output_type": "stream",
     "text": [
      "Before function call\n",
      "Hello\n",
      "After function call\n"
     ]
    }
   ],
   "source": [
    "#example\n",
    "def decorator(func):\n",
    "    def wrapper():\n",
    "        print(\"Before function call\")\n",
    "        func()\n",
    "        print(\"After function call\")\n",
    "    return wrapper\n",
    "\n",
    "@decorator\n",
    "def greet():\n",
    "    print(\"Hello\")\n",
    "\n",
    "\n",
    "greet()\n",
    "\n",
    "# Before function call\n",
    "# Hello\n",
    "# After function call"
   ]
  },
  {
   "cell_type": "markdown",
   "metadata": {},
   "source": [
    "### Generator\n",
    "* Functions that yield values using the yield keyword.\n",
    "* Useful for memory-efficient iteration."
   ]
  },
  {
   "cell_type": "code",
   "execution_count": 14,
   "metadata": {},
   "outputs": [
    {
     "name": "stdout",
     "output_type": "stream",
     "text": [
      "1\n",
      "2\n",
      "3\n"
     ]
    }
   ],
   "source": [
    "#Example:\n",
    "def generate_num():\n",
    "    for i in range(1,4):\n",
    "        yield i\n",
    "\n",
    "for num  in generate_num():\n",
    "    print(num)\n",
    "\n",
    "#1\n",
    "#2\n",
    "#3"
   ]
  },
  {
   "cell_type": "markdown",
   "metadata": {},
   "source": [
    "### Docstring\n",
    "* Documnetation for a function written as a string in the first line of the function body."
   ]
  },
  {
   "cell_type": "code",
   "execution_count": 15,
   "metadata": {},
   "outputs": [
    {
     "name": "stdout",
     "output_type": "stream",
     "text": [
      "Hello, Alice!\n",
      "\n",
      "    This function greets a person.\n",
      "\n",
      "    Parameters:\n",
      "    name (str): The name of the person to greet.\n",
      "\n",
      "    Returns:\n",
      "    str: A greeting message.\n",
      "    \n"
     ]
    }
   ],
   "source": [
    "#example:\n",
    "\n",
    "def greet(name):\n",
    "    \"\"\"\n",
    "    This function greets a person.\n",
    "\n",
    "    Parameters:\n",
    "    name (str): The name of the person to greet.\n",
    "\n",
    "    Returns:\n",
    "    str: A greeting message.\n",
    "    \"\"\"\n",
    "\n",
    "    return f\"Hello, {name}!\"\n",
    "\n",
    "print(greet(\"Alice\")) #Hello, Alice!\n",
    "\n",
    "print(greet.__doc__) #This function greets a person.\n",
    "\n",
    "# This function greets a person.\n"
   ]
  },
  {
   "cell_type": "markdown",
   "metadata": {},
   "source": []
  },
  {
   "cell_type": "markdown",
   "metadata": {},
   "source": [
    "### Functions as first class citizen\n",
    "Functions in Pyhton are treated as first classs citizens, meaning that they can be used to \n",
    "* Assignend to varibles.\n",
    "* Passed as arguments.\n",
    "* Returned from other functions.\n"
   ]
  },
  {
   "cell_type": "code",
   "execution_count": 18,
   "metadata": {},
   "outputs": [
    {
     "name": "stdout",
     "output_type": "stream",
     "text": [
      "25\n",
      "16\n"
     ]
    }
   ],
   "source": [
    "#Example->\n",
    "def square(x):\n",
    "    return x**2\n",
    "\n",
    "#Assigning function to a varible\n",
    "operation = square\n",
    "print(operation(5)) #25\n",
    "\n",
    "#Passing function as argument\n",
    "def apply_function(func, value):\n",
    "    return func(value)\n",
    "\n",
    "print(apply_function(square, 4)) #16"
   ]
  },
  {
   "cell_type": "markdown",
   "metadata": {},
   "source": [
    "### Closure\n",
    "Closure are functions that capture and remember varibles from their enclosing scope, even if the outer has finished execution."
   ]
  },
  {
   "cell_type": "code",
   "execution_count": 19,
   "metadata": {},
   "outputs": [
    {
     "name": "stdout",
     "output_type": "stream",
     "text": [
      "8\n"
     ]
    }
   ],
   "source": [
    "#example\n",
    "\n",
    "def outer_function(x):\n",
    "    def inner_function(y):\n",
    "        return x + y\n",
    "    return inner_function\n",
    "\n",
    "closure = outer_function(5)\n",
    "print(closure(3)) "
   ]
  },
  {
   "cell_type": "markdown",
   "metadata": {},
   "source": [
    "### Partial Functions:\n",
    "functools.partial creates a new function with pre-filled arguments"
   ]
  },
  {
   "cell_type": "markdown",
   "metadata": {},
   "source": []
  },
  {
   "cell_type": "code",
   "execution_count": 21,
   "metadata": {},
   "outputs": [
    {
     "name": "stdout",
     "output_type": "stream",
     "text": [
      "10\n"
     ]
    }
   ],
   "source": [
    "from functools import partial\n",
    "\n",
    "def multiply(x, y):\n",
    "    return x*y\n",
    "double = partial(multiply, 2)  #fixing 2\n",
    "print(double(5))               #o/p : 10"
   ]
  },
  {
   "cell_type": "markdown",
   "metadata": {},
   "source": [
    "### Function Annotations:\n",
    "Function annotations allow adding metadata to function arguments and return values.\n"
   ]
  },
  {
   "cell_type": "code",
   "execution_count": null,
   "metadata": {},
   "outputs": [
    {
     "ename": "NameError",
     "evalue": "name 'datatype' is not defined",
     "output_type": "error",
     "traceback": [
      "\u001b[1;31m---------------------------------------------------------------------------\u001b[0m",
      "\u001b[1;31mNameError\u001b[0m                                 Traceback (most recent call last)",
      "Cell \u001b[1;32mIn[22], line 2\u001b[0m\n\u001b[0;32m      1\u001b[0m \u001b[38;5;66;03m#syntax:\u001b[39;00m\n\u001b[1;32m----> 2\u001b[0m \u001b[38;5;28;01mdef\u001b[39;00m \u001b[38;5;21mfunction_name\u001b[39m(arg1: \u001b[43mdatatype\u001b[49m, arg2: datatype) \u001b[38;5;241m-\u001b[39m\u001b[38;5;241m>\u001b[39mreturn_datatype:\n\u001b[0;32m      3\u001b[0m     \u001b[38;5;28;01mpass\u001b[39;00m\n",
      "\u001b[1;31mNameError\u001b[0m: name 'datatype' is not defined"
     ]
    }
   ],
   "source": [
    "#syntax:\n",
    "def function_name(arg1: datatype, arg2: datatype) ->return_datatype:\n",
    "    pass"
   ]
  },
  {
   "cell_type": "code",
   "execution_count": 24,
   "metadata": {},
   "outputs": [
    {
     "name": "stdout",
     "output_type": "stream",
     "text": [
      "{'x': <class 'int'>, 'y': <class 'int'>, 'return': <class 'int'>}\n"
     ]
    }
   ],
   "source": [
    "#example :\n",
    "\n",
    "def add(x:int, y: int) ->int:\n",
    "    return x+y\n",
    "print(add.__annotations__) #o/p :{'x': <class 'int'>, 'y': <class 'int'>, 'return': <class 'int'>}"
   ]
  },
  {
   "cell_type": "markdown",
   "metadata": {},
   "source": [
    "### Functions in Data Structures:\n",
    "Functions can be stored in lists, dictionaries, or any other data structure."
   ]
  },
  {
   "cell_type": "code",
   "execution_count": 27,
   "metadata": {},
   "outputs": [
    {
     "name": "stdout",
     "output_type": "stream",
     "text": [
      "[6, 4, 10]\n",
      "15\n"
     ]
    }
   ],
   "source": [
    "#stroting functions in list:\n",
    "operations = [lambda x:x+1, lambda x:x-1, lambda x:x*2]\n",
    "print([op(5) for op in operations])\n",
    "\n",
    "#Using functions in a dictinary:\n",
    "operation_dict= {\n",
    "    \"add\": lambda x,y: x+y,\n",
    "    \"subtract\": lambda x,y: x-y,\n",
    "}\n",
    "\n",
    "print(operation_dict[\"add\"](10,5))\n",
    "\n"
   ]
  },
  {
   "cell_type": "markdown",
   "metadata": {},
   "source": []
  }
 ],
 "metadata": {
  "kernelspec": {
   "display_name": "pneumonia_env",
   "language": "python",
   "name": "python3"
  },
  "language_info": {
   "codemirror_mode": {
    "name": "ipython",
    "version": 3
   },
   "file_extension": ".py",
   "mimetype": "text/x-python",
   "name": "python",
   "nbconvert_exporter": "python",
   "pygments_lexer": "ipython3",
   "version": "3.9.20"
  }
 },
 "nbformat": 4,
 "nbformat_minor": 2
}
