{
 "cells": [
  {
   "cell_type": "markdown",
   "metadata": {},
   "source": [
    "### DICTIONARY ###"
   ]
  },
  {
   "cell_type": "markdown",
   "metadata": {},
   "source": [
    "A dictionary can be created using curly bracec {} or by using the dict() constructor."
   ]
  },
  {
   "cell_type": "code",
   "execution_count": 1,
   "metadata": {},
   "outputs": [],
   "source": [
    "#Uisng curly bracec->\n",
    "person = {\"name\": \"Alice\", \"age\": \"20\", \"city\": \"LA\"}\n",
    "\n",
    "#Using dict() constructor ->\n",
    "person = dict (name = \"Alice\", age = \"20\", city = \"LA\")"
   ]
  },
  {
   "cell_type": "markdown",
   "metadata": {},
   "source": [
    "### Accessing Dictionary Values ###\n",
    "Values  in a dictionary are accessed using their keys."
   ]
  },
  {
   "cell_type": "code",
   "execution_count": 3,
   "metadata": {},
   "outputs": [
    {
     "name": "stdout",
     "output_type": "stream",
     "text": [
      "Alice\n"
     ]
    }
   ],
   "source": [
    "person = {\"name\": \"Alice\", \"age\": \"20\", \"city\": \"LA\"}\n",
    "\n",
    "#Accesing value by key ->\n",
    "print(person[\"name\"])  #Alice"
   ]
  },
  {
   "cell_type": "markdown",
   "metadata": {},
   "source": [
    "### Modifying Dictionary Values ###\n",
    "Values associated with specific key can be changed"
   ]
  },
  {
   "cell_type": "code",
   "execution_count": 5,
   "metadata": {},
   "outputs": [
    {
     "name": "stdout",
     "output_type": "stream",
     "text": [
      "{'name': 'Alice', 'age': '21', 'city': 'LA'}\n"
     ]
    }
   ],
   "source": [
    "#Example->\n",
    "person = {\"name\": \"Alice\", \"age\": \"20\", \"city\" :\"LA\"}\n",
    "\n",
    "#Updating value by key ->\n",
    "\n",
    "person[\"age\"] = \"21\"\n",
    "print(person)  # {'name': 'Alice', 'age': '21', 'city': 'LA'}"
   ]
  },
  {
   "cell_type": "markdown",
   "metadata": {},
   "source": [
    "### Adding Items to a Dictionary\n",
    "New key-value pairs cab be added to a dictionary by simply assigning a value to a new key."
   ]
  },
  {
   "cell_type": "markdown",
   "metadata": {},
   "source": []
  },
  {
   "cell_type": "code",
   "execution_count": 6,
   "metadata": {},
   "outputs": [
    {
     "name": "stdout",
     "output_type": "stream",
     "text": [
      "{'name': 'Alice', 'age': '20', 'city': 'LA', 'occupation': 'Engineering'}\n"
     ]
    }
   ],
   "source": [
    "#Examples->\n",
    "person = {\"name\": \"Alice\", \"age\": \"20\", \"city\": \"LA\"}\n",
    "#Adding Items to a Dictionary->\n",
    "person[\"occupation\"] = \"Engineering\"\n",
    "\n",
    "print(person)  # {'name': 'Alice', 'age': '20', 'city': 'LA', 'occupation': 'Engineering'}"
   ]
  },
  {
   "cell_type": "markdown",
   "metadata": {},
   "source": [
    "### Removing Items from a Dictionary\n",
    "There are several ways to remove items from a dictionary.\n",
    "* del-> removes an item by key.\n",
    "* .pop()->removes and returns an item by key.\n",
    "* .popitem()-> removes the last inserted item \n",
    "* .clear()-> removes all items"
   ]
  },
  {
   "cell_type": "code",
   "execution_count": 11,
   "metadata": {},
   "outputs": [
    {
     "name": "stdout",
     "output_type": "stream",
     "text": [
      "{'name': 'Alice', 'age': '20', 'occupation': 'Engineering'}\n",
      "{'name': 'Alice', 'occupation': 'Engineering'}\n",
      "20\n",
      "{'name': 'Alice'}\n",
      "('occupation', 'Engineering')\n",
      "{}\n"
     ]
    }
   ],
   "source": [
    "#Examples->\n",
    "\n",
    "person = {\"name\": \"Alice\", \"age\": \"20\", \"city\": \"LA\", \"occupation\": \"Engineering\"}\n",
    "\n",
    "#del -> removes an item by key\n",
    "\n",
    "del person[\"city\"]\n",
    "\n",
    "print(person)  # {'name': 'Alice', 'age': '20', 'occupation': 'Engineering'}\n",
    "\n",
    "\n",
    "#pop() -> removes and returns an item by key\n",
    "\n",
    "popped_item = person.pop(\"age\")\n",
    "\n",
    "print(person)  # {'name': 'Alice', 'occupation': 'Engineering'}\n",
    "\n",
    "print(popped_item)  # 20\n",
    "\n",
    "#popitem() -> removes the last inserted item\n",
    "\n",
    "popped_item = person.popitem()\n",
    "\n",
    "print(person)  # {'name': 'Alice', 'occupation': 'Engineering'}\n",
    "\n",
    "print(popped_item)  # ('occupation', 'Engineering')\n",
    "\n",
    "#clear() -> removes all items\n",
    "\n",
    "person.clear()\n",
    "\n",
    "print(person)  # {}"
   ]
  },
  {
   "cell_type": "markdown",
   "metadata": {},
   "source": [
    "### Nested Dictionaries\n",
    "Dictionaries can hold other dictionaries as values, creating nested dictionaries"
   ]
  },
  {
   "cell_type": "code",
   "execution_count": 13,
   "metadata": {},
   "outputs": [
    {
     "name": "stdout",
     "output_type": "stream",
     "text": [
      "New York\n",
      "30\n"
     ]
    }
   ],
   "source": [
    "#Example->\n",
    "\n",
    "person = {\n",
    "    \"name\": \"Alice\", \"age\": \"20\", \"city\": \"LA\", \"address\": {\"street\": \"123 Main St\",\"city\": \"New York\"}}\n",
    "\n",
    "print(person[\"address\"][\"city\"])  # New York\n",
    "\n",
    "\n",
    "people = {\n",
    "    \"Alice\": {\"age\": 30, \"city\": \"New York\"},\n",
    "    \"Bob\": {\"age\": 25, \"city\": \"Los Angeles\"}\n",
    "}\n",
    "\n",
    "print(people[\"Alice\"][\"age\"])  # Output: 30\n"
   ]
  },
  {
   "cell_type": "markdown",
   "metadata": {},
   "source": [
    "### Dictionary Methods \n",
    "Dictionaries provide several built-in methods for common operations:\n",
    "* .key() ->returns all the keys in the dictionary.\n",
    "* .values()-> returns all the values in the dictionary\n",
    "* .items()-> returns all the key-value pairs as tuples.\n",
    "* .get()-> returns the value for a key(or None if key is not found)\n",
    "* .update()-> updates the dictionary with a new key-value pairs."
   ]
  },
  {
   "cell_type": "code",
   "execution_count": null,
   "metadata": {},
   "outputs": [
    {
     "name": "stdout",
     "output_type": "stream",
     "text": [
      "dict_keys(['name', 'age', 'city'])\n",
      "dict_values(['Alice', '20', 'LA'])\n",
      "dict_items([('name', 'Alice'), ('age', '20'), ('city', 'LA')])\n",
      "Alice\n",
      "None\n",
      "{'name': 'Alice', 'age': '20', 'city': 'LA', 'occupation': 'Engineering'}\n"
     ]
    }
   ],
   "source": [
    "#Examples->\n",
    "\n",
    "person = {\"name\": \"Alice\", \"age\": \"20\", \"city\": \"LA\"}\n",
    "\n",
    "#key() -> returns all the keys in the dictionary\n",
    "\n",
    "print(person.keys())  # dict_keys(['name', 'age', 'city'])\n",
    "\n",
    "#values() -> returns all the values in the dictionary\n",
    "\n",
    "print(person.values())  # dict_values(['Alice', '20', 'LA'])\n",
    "\n",
    "#items() -> returns all the key-value pairs as tuples\n",
    "\n",
    "print(person.items())  # dict_items([('name', 'Alice'), ('age', '20'), ('city', 'LA')])\n",
    "\n",
    "#get() -> returns the value for a key(or None if key is not found)\n",
    "\n",
    "print(person.get(\"name\"))  # Alice\n",
    "\n",
    "print(person.get(\"occupation\"))  # None\n",
    "\n",
    "#update() -> updates the dictionary with a new key-value pairs\n",
    "\n",
    "person.update({\"occupation\": \"Engineering\"})\n",
    "\n",
    "print(person)  # {'name': 'Alice', 'age': '20', 'city': 'LA', 'occupation': 'Engineering'}\n"
   ]
  },
  {
   "cell_type": "markdown",
   "metadata": {},
   "source": [
    "\n",
    "### Dictionary Comprehension\n",
    "Just like list comprehension, we can use dictionary comprehension to create dictionary dynamically."
   ]
  },
  {
   "cell_type": "code",
   "execution_count": 24,
   "metadata": {},
   "outputs": [
    {
     "name": "stdout",
     "output_type": "stream",
     "text": [
      "{'Alice': 20, 'Bob': 25}\n",
      "{1: 1, 2: 4, 3: 9, 4: 16, 5: 25}\n",
      "True\n",
      "False\n"
     ]
    }
   ],
   "source": [
    "#Creating a dictionary using comprehension\n",
    "\n",
    "person = {name: age for name, age in [('Alice', 20), ('Bob', 25)]}\n",
    "\n",
    "print(person)  # {'Alice': 20, 'Bob': 25}\n",
    "\n",
    "# Creating a dictionary using comprehension\n",
    "squares = {x: x*x for x in range(1, 6)}\n",
    "print(squares)  # Output: {1: 1, 2: 4, 3: 9, 4: 16, 5: 25}\n",
    "\n",
    "### Dictionary Equality\n",
    "\n",
    "person1 = {\"name\": \"Alice\", \"age\": \"20\", \"city\": \"LA\"}\n",
    "person2 = {\"name\": \"Alice\", \"age\": \"20\", \"city\": \"LA\"}\n",
    "\n",
    "print(person1 == person2)  # Output: True\n",
    "\n",
    "person3 = {\"name\": \"Alice\", \"age\": \"21\", \"city\": \"LA\"}\n",
    "\n",
    "print(person1 == person3)  # Output: False\n"
   ]
  },
  {
   "cell_type": "markdown",
   "metadata": {},
   "source": [
    "### Checking Key Existence ->\n"
   ]
  },
  {
   "cell_type": "code",
   "execution_count": 25,
   "metadata": {},
   "outputs": [
    {
     "name": "stdout",
     "output_type": "stream",
     "text": [
      "True\n",
      "False\n"
     ]
    }
   ],
   "source": [
    "person = {\"name\": \"Alice\", \"age\": 30, \"city\": \"New York\"}\n",
    "\n",
    "# Checking if a key exists\n",
    "print(\"name\" in person)  # Output: True\n",
    "print(\"occupation\" in person)  # Output: False\n"
   ]
  },
  {
   "cell_type": "markdown",
   "metadata": {},
   "source": [
    "### Merging Dictionaries ->\n",
    "Dictionaries can be merged using the .update() method or ** unpacking operator in Python 3.5+"
   ]
  },
  {
   "cell_type": "code",
   "execution_count": 26,
   "metadata": {},
   "outputs": [
    {
     "name": "stdout",
     "output_type": "stream",
     "text": [
      "{'name': 'Alice', 'age': 30, 'city': 'New York', 'occupation': 'Engineering'}\n",
      "{'name': 'Alice', 'age': 30, 'city': 'New York', 'occupation': 'Engineering'}\n"
     ]
    }
   ],
   "source": [
    "#Example ->\n",
    "\n",
    "person1 = {\"name\": \"Alice\", \"age\": 30, \"city\": \"New York\"}\n",
    "person2 = {\"occupation\": \"Engineering\"}\n",
    "\n",
    "# Merging dictionaries using update() method\n",
    "\n",
    "person1.update(person2)\n",
    "\n",
    "print(person1)  # {'name': 'Alice', 'age': 30, 'city': 'New York', 'occupation': 'Engineering'}\n",
    "\n",
    "# Merging dictionaries using ** unpacking operator\n",
    "\n",
    "person1 = {\"name\": \"Alice\", \"age\": 30, \"city\": \"New York\"}\n",
    "person2 = {\"occupation\": \"Engineering\"}\n",
    "\n",
    "person1.update(**person2)\n",
    "\n",
    "print(person1)  # {'name': 'Alice', 'age': 30, 'city': 'New York', 'occupation': 'Engineering'}\n"
   ]
  },
  {
   "cell_type": "markdown",
   "metadata": {},
   "source": [
    "### Dictionary as Finction Argument->\n",
    "Dictionary can be used as function arguments.We can use argument unpacking to pass a dictionary's key and values as parameters to a function\n"
   ]
  },
  {
   "cell_type": "code",
   "execution_count": 29,
   "metadata": {},
   "outputs": [
    {
     "name": "stdout",
     "output_type": "stream",
     "text": [
      "Name: Alice, Age: 30, City: New York\n",
      "[('name', 'Alice'), ('age', 30), ('city', 'New York')]\n",
      "['Alice', 30, 'New York']\n",
      "['name', 'age', 'city']\n",
      "{('city', 'New York'), ('name', 'Alice'), ('age', 30)}\n",
      "{'name', 'age', 'city'}\n",
      "Name: Alice, Age: 30, City: New York\n"
     ]
    }
   ],
   "source": [
    "#Exaple->\n",
    "\n",
    "def print_person_info(name, age, city):\n",
    "    print(f\"Name: {name}, Age: {age}, City: {city}\")\n",
    "\n",
    "person = {\"name\": \"Alice\", \"age\": 30, \"city\": \"New York\"}\n",
    "\n",
    "# Passing dictionary as function argument\n",
    "\n",
    "print_person_info(**person)  # Output: Name: Alice, Age: 30, City: New York\n",
    "\n",
    "### Converting Dictionaries to Other Data Structures ->\n",
    "\n",
    "# Converting dictionary to a list of tuples\n",
    "\n",
    "person_list = list(person.items())\n",
    "\n",
    "print(person_list)  # [('name', 'Alice'), ('age', 30), ('city', 'New York')]\n",
    "\n",
    "# Converting dictionary to a list of key-value pairs\n",
    "\n",
    "person_pairs = list(person.values())\n",
    "\n",
    "print(person_pairs)  # ['Alice', 30, 'New York']\n",
    "\n",
    "# Converting dictionary to a list of keys\n",
    "\n",
    "person_keys = list(person.keys())\n",
    "\n",
    "print(person_keys)  # ['name', 'age', 'city']\n",
    "\n",
    "# Converting dictionary to a set of key-value pairs\n",
    "\n",
    "person_set = set(person.items())\n",
    "\n",
    "print(person_set)  # {(('name', 'Alice'), 30), (('city', 'New York'), ('age', 30))}\n",
    "\n",
    "# Converting dictionary to a set of keys\n",
    "\n",
    "person_keys_set = set(person.keys())\n",
    "\n",
    "print(person_keys_set)  # {'name', 'age', 'city'}\n",
    "\n",
    "def display_info(name, age, city):\n",
    "    print(f\"Name: {name}, Age: {age}, City: {city}\")\n",
    "\n",
    "info = {\"name\": \"Alice\", \"age\": 30, \"city\": \"New York\"}\n",
    "display_info(**info)  # Output: Name: Alice, Age: 30, City: New York\n",
    "\n",
    "\n"
   ]
  },
  {
   "cell_type": "markdown",
   "metadata": {},
   "source": [
    "### Dictionary in Loops->\n",
    ".items() can be used to loop through dictionary to get both the key and value."
   ]
  },
  {
   "cell_type": "code",
   "execution_count": 30,
   "metadata": {},
   "outputs": [
    {
     "name": "stdout",
     "output_type": "stream",
     "text": [
      "name: Alice\n",
      "age: 30\n",
      "city: New York\n"
     ]
    }
   ],
   "source": [
    "person = {\"name\": \"Alice\", \"age\": 30, \"city\": \"New York\"}\n",
    "\n",
    "# Looping through keys and values\n",
    "for key, value in person.items():\n",
    "    print(f\"{key}: {value}\")\n",
    "# Output:\n",
    "# name: Alice\n",
    "# age: 30\n",
    "# city: New York\n"
   ]
  },
  {
   "cell_type": "code",
   "execution_count": null,
   "metadata": {},
   "outputs": [],
   "source": []
  }
 ],
 "metadata": {
  "kernelspec": {
   "display_name": "pneumonia_env",
   "language": "python",
   "name": "python3"
  },
  "language_info": {
   "codemirror_mode": {
    "name": "ipython",
    "version": 3
   },
   "file_extension": ".py",
   "mimetype": "text/x-python",
   "name": "python",
   "nbconvert_exporter": "python",
   "pygments_lexer": "ipython3",
   "version": "3.9.20"
  }
 },
 "nbformat": 4,
 "nbformat_minor": 2
}
