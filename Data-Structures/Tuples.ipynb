{
 "cells": [
  {
   "cell_type": "markdown",
   "metadata": {},
   "source": [
    "### TUPLES ###"
   ]
  },
  {
   "cell_type": "markdown",
   "metadata": {},
   "source": [
    "Tuples in pyhton are->\n",
    "* Ordered \n",
    "* Immutable\n",
    "* Similar to lists, but once created cannot be modified "
   ]
  },
  {
   "cell_type": "markdown",
   "metadata": {},
   "source": [
    "### Basic Tuples Operations:"
   ]
  },
  {
   "cell_type": "code",
   "execution_count": 3,
   "metadata": {},
   "outputs": [
    {
     "name": "stdout",
     "output_type": "stream",
     "text": [
      "('apple', 'banana', 'cherry')\n",
      "('apple', 123, 'banana', 45.6)\n"
     ]
    }
   ],
   "source": [
    "# Creating a Tuple\n",
    "\n",
    "#Creating a simple tuple\n",
    "fruits = (\"apple\", \"banana\", \"cherry\")\n",
    "print(fruits) #('apple', 'banana', 'cherry')\n",
    "\n",
    "#Tuples with different data types->\n",
    "\n",
    "mixed_tuple = (\"apple\", 123, \"banana\", 45.6)\n",
    "print(mixed_tuple) #('apple', 123, 'banana', 45.6)"
   ]
  },
  {
   "cell_type": "code",
   "execution_count": 5,
   "metadata": {},
   "outputs": [
    {
     "name": "stdout",
     "output_type": "stream",
     "text": [
      "banana\n",
      "cherry\n"
     ]
    }
   ],
   "source": [
    "# Accessing the elemnts->\n",
    "print(fruits[1]) #banana\n",
    "\n",
    "#Negative indexing\n",
    "\n",
    "print(fruits[-1]) # cherry"
   ]
  },
  {
   "cell_type": "code",
   "execution_count": 7,
   "metadata": {},
   "outputs": [
    {
     "name": "stdout",
     "output_type": "stream",
     "text": [
      "('banana', 'cherry')\n"
     ]
    }
   ],
   "source": [
    "#Slicing a Tuples->\n",
    "print(fruits[1:3]) #('banana', 'cherry')"
   ]
  },
  {
   "cell_type": "markdown",
   "metadata": {},
   "source": [
    "### Tuples Methods "
   ]
  },
  {
   "cell_type": "code",
   "execution_count": 9,
   "metadata": {},
   "outputs": [
    {
     "name": "stdout",
     "output_type": "stream",
     "text": [
      "4\n"
     ]
    }
   ],
   "source": [
    "# count()\n",
    "\n",
    "numbers = (1, 2, 3, 4, 5, 6, 7, 8,2,2,2)\n",
    "print(numbers.count(2)) #4"
   ]
  },
  {
   "cell_type": "code",
   "execution_count": 12,
   "metadata": {},
   "outputs": [
    {
     "name": "stdout",
     "output_type": "stream",
     "text": [
      "1\n"
     ]
    }
   ],
   "source": [
    "# index()->Returns the first occurance of a specified value. \n",
    "print(numbers.index(2))\n"
   ]
  },
  {
   "cell_type": "code",
   "execution_count": 14,
   "metadata": {},
   "outputs": [
    {
     "name": "stdout",
     "output_type": "stream",
     "text": [
      "(1, 4, 9, 16, 25)\n"
     ]
    }
   ],
   "source": [
    "### Tuples with Tuple Comprehension and Function\n",
    "# Although list comprehension exists, Python does not have direct tuple comprehension. However, we can use generator expressions to achieve a similar result. \n",
    "\n",
    "numbers = [1, 2, 3, 4, 5]\n",
    "squared_tuple= tuple(num**2 for num in numbers)\n",
    "print(squared_tuple)\n"
   ]
  },
  {
   "cell_type": "code",
   "execution_count": null,
   "metadata": {},
   "outputs": [
    {
     "name": "stdout",
     "output_type": "stream",
     "text": [
      "150\n",
      "10\n",
      "50\n",
      "5\n"
     ]
    }
   ],
   "source": [
    "#Uisng Functions On Tuples->\n",
    "numbers = (10, 20, 30, 40, 50)\n",
    "\n",
    "#Sum of the elements \n",
    "total = sum(numbers)\n",
    "print(total) #150\n",
    "\n",
    "#Minimum value\n",
    "min_vaue= min(numbers)\n",
    "print(min_vaue) #10\n",
    "\n",
    "#Maximum value\n",
    "max_value = max(numbers)\n",
    "print(max_value) #50\n",
    "\n",
    "#Length of the tuple\n",
    "\n",
    "length = len(numbers)\n",
    "print(length) #5"
   ]
  },
  {
   "cell_type": "markdown",
   "metadata": {},
   "source": [
    "### Tuples Operations ###"
   ]
  },
  {
   "cell_type": "code",
   "execution_count": 16,
   "metadata": {},
   "outputs": [
    {
     "name": "stdout",
     "output_type": "stream",
     "text": [
      "(1, 2, 3, 4, 5, 6)\n"
     ]
    }
   ],
   "source": [
    "#Concatenating Tuples->\n",
    "\n",
    "tuple1 = (1, 2, 3)\n",
    "tuple2 = (4, 5, 6)\n",
    "\n",
    "concatenated_tuple = tuple1 + tuple2\n",
    "print(concatenated_tuple) # (1, 2, 3, 4, 5, 6)"
   ]
  },
  {
   "cell_type": "code",
   "execution_count": 17,
   "metadata": {},
   "outputs": [
    {
     "name": "stdout",
     "output_type": "stream",
     "text": [
      "('apple', 'banana', 'apple', 'banana')\n"
     ]
    }
   ],
   "source": [
    "#Repetition->\n",
    "\n",
    "fruits = (\"apple\", \"banana\")\n",
    "print(fruits * 2)  # Output: ('apple', 'banana', 'apple', 'banana')\n"
   ]
  },
  {
   "cell_type": "markdown",
   "metadata": {},
   "source": [
    "### Tuple Packing and Unpacking"
   ]
  },
  {
   "cell_type": "code",
   "execution_count": 18,
   "metadata": {},
   "outputs": [
    {
     "name": "stdout",
     "output_type": "stream",
     "text": [
      "John 25 Engineer\n"
     ]
    }
   ],
   "source": [
    "#Packing :Grouping values into tuple\n",
    "\n",
    "person = (\"John\", 25, \"Engineer\")\n",
    "\n",
    "#Unpacking :Extracting values from tuples:\n",
    "name, age, profession = person\n",
    "print(name, age, profession)  # Output: John 25 Engineer\n"
   ]
  },
  {
   "cell_type": "markdown",
   "metadata": {},
   "source": [
    "### Immutiblity\n"
   ]
  },
  {
   "cell_type": "code",
   "execution_count": null,
   "metadata": {},
   "outputs": [
    {
     "ename": "TypeError",
     "evalue": "'tuple' object does not support item assignment",
     "output_type": "error",
     "traceback": [
      "\u001b[1;31m---------------------------------------------------------------------------\u001b[0m",
      "\u001b[1;31mTypeError\u001b[0m                                 Traceback (most recent call last)",
      "Cell \u001b[1;32mIn[20], line 2\u001b[0m\n\u001b[0;32m      1\u001b[0m fruits \u001b[38;5;241m=\u001b[39m (\u001b[38;5;124m\"\u001b[39m\u001b[38;5;124mapple\u001b[39m\u001b[38;5;124m\"\u001b[39m, \u001b[38;5;124m\"\u001b[39m\u001b[38;5;124mbanana\u001b[39m\u001b[38;5;124m\"\u001b[39m, \u001b[38;5;124m\"\u001b[39m\u001b[38;5;124mcherry\u001b[39m\u001b[38;5;124m\"\u001b[39m)\n\u001b[1;32m----> 2\u001b[0m \u001b[43mfruits\u001b[49m\u001b[43m[\u001b[49m\u001b[38;5;241;43m1\u001b[39;49m\u001b[43m]\u001b[49m \u001b[38;5;241m=\u001b[39m \u001b[38;5;124m\"\u001b[39m\u001b[38;5;124morange\u001b[39m\u001b[38;5;124m\"\u001b[39m  \u001b[38;5;66;03m# This will raise a TypeError\u001b[39;00m\n",
      "\u001b[1;31mTypeError\u001b[0m: 'tuple' object does not support item assignment"
     ]
    }
   ],
   "source": [
    "fruits = (\"apple\", \"banana\", \"cherry\")\n",
    "fruits[1] = \"orange\"  # This will raise a TypeError\n",
    "\n",
    "#TypeError: 'tuple' object does not support item assignment"
   ]
  },
  {
   "cell_type": "markdown",
   "metadata": {},
   "source": [
    "### Tuple vs List\n",
    "* Tuples are immutable (cannot be modified after creation), while lists are mutable (can be modified).\n",
    "* Memory Efficiency: Since tuples are immutable, they use less memory than lists.\n",
    "* Performance: Tuples are faster for iteration and access compared to lists.\n"
   ]
  },
  {
   "cell_type": "markdown",
   "metadata": {},
   "source": [
    "### Nested Tuples"
   ]
  },
  {
   "cell_type": "markdown",
   "metadata": {},
   "source": []
  },
  {
   "cell_type": "code",
   "execution_count": 21,
   "metadata": {},
   "outputs": [
    {
     "name": "stdout",
     "output_type": "stream",
     "text": [
      "((1, 2), (3, 4), (5, 6))\n",
      "4\n"
     ]
    }
   ],
   "source": [
    "nested_tuple = ((1, 2), (3, 4), (5, 6))\n",
    "print(nested_tuple)  # Output: ((1, 2), (3, 4), (5, 6))\n",
    "\n",
    "# Accessing nested tuple elements\n",
    "print(nested_tuple[1][1])  # Output: 4\n"
   ]
  },
  {
   "cell_type": "code",
   "execution_count": 23,
   "metadata": {},
   "outputs": [
    {
     "name": "stdout",
     "output_type": "stream",
     "text": [
      "<class 'tuple'>\n",
      "<class 'int'>\n"
     ]
    }
   ],
   "source": [
    "#Tuple with One Element\n",
    "single_tuple = (5,)  # This is a tuple with one element\n",
    "print(type(single_tuple))  # Output: <class 'tuple'>\n",
    "\n",
    "not_a_tuple = (5)  # This is an integer, not a tuple\n",
    "print(type(not_a_tuple))  # Output: <class 'int'>\n"
   ]
  },
  {
   "cell_type": "code",
   "execution_count": 24,
   "metadata": {},
   "outputs": [
    {
     "name": "stdout",
     "output_type": "stream",
     "text": [
      "apple\n",
      "banana\n",
      "cherry\n"
     ]
    }
   ],
   "source": [
    "#Tuple Iteration\n",
    "fruits = (\"apple\", \"banana\", \"cherry\")\n",
    "\n",
    "# Using a for loop\n",
    "for fruit in fruits:\n",
    "    print(fruit)\n",
    "# Output:\n",
    "# apple\n",
    "# banana\n",
    "# cherry\n"
   ]
  },
  {
   "cell_type": "code",
   "execution_count": 28,
   "metadata": {},
   "outputs": [
    {
     "name": "stdout",
     "output_type": "stream",
     "text": [
      "apple\n",
      "banana\n",
      "cherry\n",
      "Name: John, Age: 25, Profession: Engineer\n"
     ]
    }
   ],
   "source": [
    "#Tuple in Function Arguments\n",
    "\n",
    "def print_tuple(my_tuple):\n",
    "    for item in my_tuple:\n",
    "        print(item)\n",
    "\n",
    "fruits = (\"apple\", \"banana\", \"cherry\")\n",
    "print_tuple(fruits)\n",
    "\n",
    "\n",
    "#Tuple Unpacking in Function Arguments:\n",
    "def display_info(name, age, profession):\n",
    "    print(f\"Name: {name}, Age: {age}, Profession: {profession}\")\n",
    "\n",
    "person_info = (\"John\", 25, \"Engineer\")\n",
    "display_info(*person_info)  # Using unpacking\n",
    "# Output: Name: John, Age: 25, Profession: Engineer\n"
   ]
  },
  {
   "cell_type": "markdown",
   "metadata": {},
   "source": [
    "### Tuple with in and not in"
   ]
  },
  {
   "cell_type": "code",
   "execution_count": 29,
   "metadata": {},
   "outputs": [
    {
     "name": "stdout",
     "output_type": "stream",
     "text": [
      "True\n",
      "True\n"
     ]
    }
   ],
   "source": [
    "fruits = (\"apple\", \"banana\", \"cherry\")\n",
    "\n",
    "# Check if an element is in the tuple\n",
    "print(\"banana\" in fruits)  # Output: True\n",
    "\n",
    "# Check if an element is not in the tuple\n",
    "print(\"orange\" not in fruits)  # Output: True\n"
   ]
  },
  {
   "cell_type": "code",
   "execution_count": 30,
   "metadata": {},
   "outputs": [
    {
     "name": "stdout",
     "output_type": "stream",
     "text": [
      "(10, 20)\n",
      "10 20\n"
     ]
    }
   ],
   "source": [
    "# Packing a tuple\n",
    "coordinates = (10, 20)  # Packing values into a tuple\n",
    "print(coordinates)  # Output: (10, 20)\n",
    "\n",
    "# Unpacking a tuple\n",
    "x, y = coordinates  # Unpacking the tuple into variables\n",
    "print(x, y)  # Output: 10 20\n"
   ]
  },
  {
   "cell_type": "markdown",
   "metadata": {},
   "source": [
    "### Use Cases of Tuples\n",
    "* Data Integrity: When you need to ensure that the data cannot be changed.\n",
    "* As Dictionary Keys: Since tuples are immutable, they can be used as keys in dictionaries (lists cannot).\n",
    "* Returning Multiple Values: Functions that need to return multiple values can use tuples for packing and returning those values.\n",
    "* Leverage tuple unpacking for cleaner code when working with multiple variables."
   ]
  },
  {
   "cell_type": "code",
   "execution_count": 32,
   "metadata": {},
   "outputs": [
    {
     "name": "stdout",
     "output_type": "stream",
     "text": [
      "{'John Doe': (30, 'Engineer')}\n",
      "(30, 'Engineer')\n",
      "Some Place\n"
     ]
    }
   ],
   "source": [
    "### Tuple as Dictionary->\n",
    "\n",
    "# Creating a dictionary using a tuple\n",
    "\n",
    "person = (\"John Doe\", 30, \"Engineer\")\n",
    "person_dict = {person[0]: person[1:]}\n",
    "print(person_dict)  # Output: {'John Doe': (30, 'Engineer')}\n",
    "\n",
    "# Accessing values using dictionary keys\n",
    "\n",
    "print(person_dict[\"John Doe\"])  # Output: (30, 'Engineer')\n",
    "\n",
    "#example 2->\n",
    "location = {(\"latitude\", \"longitude\"): \"Some Place\"}\n",
    "print(location[(\"latitude\", \"longitude\")])  # Output: Some Place\n"
   ]
  },
  {
   "cell_type": "code",
   "execution_count": 33,
   "metadata": {},
   "outputs": [
    {
     "name": "stdout",
     "output_type": "stream",
     "text": [
      "Alice\n",
      "30\n",
      "Engineer\n"
     ]
    }
   ],
   "source": [
    "#Returning Multiple Values\n",
    "# Function that returns multiple values using a tuple\n",
    "def get_user_info():\n",
    "    name = \"Alice\"\n",
    "    age = 30\n",
    "    profession = \"Engineer\"\n",
    "    \n",
    "    # Packing the values into a tuple\n",
    "    return name, age, profession\n",
    "\n",
    "# Call the function and unpack the result\n",
    "user_name, user_age, user_profession = get_user_info()\n",
    "\n",
    "print(user_name)        # Output: Alice\n",
    "print(user_age)         # Output: 30\n",
    "print(user_profession)  # Output: Engineer\n"
   ]
  },
  {
   "cell_type": "code",
   "execution_count": 37,
   "metadata": {},
   "outputs": [
    {
     "name": "stdout",
     "output_type": "stream",
     "text": [
      "Alice\n",
      "30\n",
      "Engineer\n",
      "Hello, my name is Alice, I am 25 years old and I work as a Engineer.\n"
     ]
    }
   ],
   "source": [
    "#tuple unpacking and cleaner code->\n",
    "# Tuple unpacking for cleaner code\n",
    "person_info = (\"Alice\", 30, \"Engineer\")\n",
    "\n",
    "# Unpacking into individual variables\n",
    "name, age, profession = person_info\n",
    "\n",
    "print(name)       # Output: Alice\n",
    "print(age)        # Output: 30\n",
    "print(profession) # Output: Engineer\n",
    "\n",
    "\n",
    "\n",
    "\n",
    "#example\n",
    "# Packing a person's data into a tuple\n",
    "person_info = (\"Alice\", 25, \"Engineer\")\n",
    "\n",
    "# Passing the packed data as a single argument\n",
    "def greet_person(person):\n",
    "    name, age, profession = person\n",
    "    print(f\"Hello, my name is {name}, I am {age} years old and I work as a {profession}.\")\n",
    "\n",
    "greet_person(person_info)  # Output: Hello, my name is Alice, I am 25 years old and I work as a Engineer.\n",
    "\n"
   ]
  },
  {
   "cell_type": "code",
   "execution_count": 36,
   "metadata": {},
   "outputs": [
    {
     "name": "stdout",
     "output_type": "stream",
     "text": [
      "88\n",
      "64\n"
     ]
    }
   ],
   "source": [
    "#Use Tuples when memory efficiency is important\n",
    "\n",
    "import sys\n",
    "\n",
    "# List vs Tuple memory usage\n",
    "fruits_list = [\"apple\", \"banana\", \"cherry\"]\n",
    "fruits_tuple = (\"apple\", \"banana\", \"cherry\")\n",
    "\n",
    "# Memory size comparison\n",
    "print(sys.getsizeof(fruits_list))  # Output: Larger value #88\n",
    "print(sys.getsizeof(fruits_tuple)) # Output: Smaller value #64\n"
   ]
  },
  {
   "cell_type": "markdown",
   "metadata": {},
   "source": [
    "### Unpacking Tuple with *"
   ]
  },
  {
   "cell_type": "code",
   "execution_count": 40,
   "metadata": {},
   "outputs": [
    {
     "name": "stdout",
     "output_type": "stream",
     "text": [
      "10\n",
      "20\n",
      "[30, 40, 50]\n"
     ]
    }
   ],
   "source": [
    "# Using * for Extended Unpaking\n",
    "\n",
    "coordinates = (10, 20, 30, 40, 50)\n",
    "\n",
    "# Unpacking the tuple into multiple variables\n",
    "\n",
    "x, y, *rest = coordinates\n",
    "print(x) #10\n",
    "print(y) #20\n",
    "print(rest) # [30, 40, 50]\n"
   ]
  },
  {
   "cell_type": "code",
   "execution_count": null,
   "metadata": {},
   "outputs": [
    {
     "name": "stdout",
     "output_type": "stream",
     "text": [
      "1\n",
      "[2, 3, 4, 5, 6, 7, 8, 9, 10]\n",
      "11\n"
     ]
    }
   ],
   "source": [
    "#Collecting the rest into variable\n",
    "\n",
    "data = (1,2,3,4,5,6,7,8,9,10,11)\n",
    "a, *middle, b = data\n",
    "\n",
    "print(a)       #1\n",
    "print(middle)  #[2, 3, 4, 5, 6, 7, 8, 9, 10]\n",
    "print(b)        #11"
   ]
  },
  {
   "cell_type": "code",
   "execution_count": 45,
   "metadata": {},
   "outputs": [
    {
     "name": "stdout",
     "output_type": "stream",
     "text": [
      "a:1, b:2, rest : (4, 3, 5, 6, 7, 8, 9, 10, 11, 12, 13)\n"
     ]
    }
   ],
   "source": [
    "#Using * in Function Arguments\n",
    "\n",
    "def display_info(a,b, *rest):\n",
    "    print(f\"a:{a}, b:{b}, rest : {rest}\")\n",
    "\n",
    "info = (1,2,4,3,5,6 ,7,8,9,10,11,12,13)\n",
    "display_info(*info)\n",
    "#a:1, b:2, rest : (4, 3, 5, 6, 7, 8, 9, 10, 11, 12, 13)"
   ]
  },
  {
   "cell_type": "code",
   "execution_count": 47,
   "metadata": {},
   "outputs": [
    {
     "name": "stdout",
     "output_type": "stream",
     "text": [
      "1\n",
      "2\n",
      "[(3, 4), (5, 6), (7, 8)]\n"
     ]
    }
   ],
   "source": [
    "# tO UNPACK NESTED TUPLES\n",
    "\n",
    "nested = ((1,2), (3,4), (5,6), (7,8))\n",
    "((a,b),*rest) = nested\n",
    "\n",
    "print(a)        # Output: 1\n",
    "print(b)        # Output: 2\n",
    "print(rest)     # Output: [(3, 4), (5, 6)]"
   ]
  },
  {
   "cell_type": "code",
   "execution_count": 48,
   "metadata": {},
   "outputs": [
    {
     "name": "stdout",
     "output_type": "stream",
     "text": [
      "a: 1, rest: [2, 3]\n",
      "a: 4, rest: [5, 6]\n",
      "a: 7, rest: [8, 9]\n"
     ]
    }
   ],
   "source": [
    "#Unpacking in loops\n",
    "\n",
    "# Tuple with extra elements\n",
    "data = [(1, 2, 3), (4, 5, 6), (7, 8, 9)]\n",
    "\n",
    "for (a, *rest) in data:\n",
    "    print(f\"a: {a}, rest: {rest}\")\n"
   ]
  },
  {
   "cell_type": "code",
   "execution_count": null,
   "metadata": {},
   "outputs": [],
   "source": []
  }
 ],
 "metadata": {
  "kernelspec": {
   "display_name": "Python 3",
   "language": "python",
   "name": "python3"
  },
  "language_info": {
   "codemirror_mode": {
    "name": "ipython",
    "version": 3
   },
   "file_extension": ".py",
   "mimetype": "text/x-python",
   "name": "python",
   "nbconvert_exporter": "python",
   "pygments_lexer": "ipython3",
   "version": "3.12.3"
  }
 },
 "nbformat": 4,
 "nbformat_minor": 2
}
