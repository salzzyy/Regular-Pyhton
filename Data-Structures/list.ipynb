{
 "cells": [
  {
   "cell_type": "markdown",
   "metadata": {},
   "source": [
    "### LISTS ###\n"
   ]
  },
  {
   "cell_type": "markdown",
   "metadata": {},
   "source": [
    "Defination: A list is a mutable, ordered collection of elements in Python.\n",
    "Syntax: list_name = [element1, element2, ....elementn]\n"
   ]
  },
  {
   "cell_type": "code",
   "execution_count": null,
   "metadata": {},
   "outputs": [],
   "source": [
    "empty_list = []\n",
    "numbers = [1,2,34]\n",
    "mixed_list= [1, \"hello\", 3.5, True]"
   ]
  },
  {
   "cell_type": "markdown",
   "metadata": {},
   "source": [
    "### Properties of Lists\n",
    "* Ordered (elements have specific sequence)\n",
    "* Allow duplications \n",
    "* Can hold elements of different data types.\n",
    "* Mutate (elements can bee modified)"
   ]
  },
  {
   "cell_type": "code",
   "execution_count": 1,
   "metadata": {},
   "outputs": [],
   "source": [
    "#Creating lists\n",
    "#using square brackets:\n",
    "\n",
    "fruits = [\"apple\", \"bannna\", \"cherry\"]\n",
    "\n",
    "#Using the list() constructor:\n",
    "numbers = list((1,2,3,4))\n",
    "\n",
    "#Using list comprehension:\n",
    "squares = [ x**2 for x in range(5)]\n",
    "\n"
   ]
  },
  {
   "cell_type": "markdown",
   "metadata": {},
   "source": [
    "## Accesing list elements\n",
    "* Positive indexing: list_name[index]\n",
    "* Negative indexing: list_name[-index]\n"
   ]
  },
  {
   "cell_type": "code",
   "execution_count": 2,
   "metadata": {},
   "outputs": [
    {
     "name": "stdout",
     "output_type": "stream",
     "text": [
      "apple\n",
      "bannana\n"
     ]
    }
   ],
   "source": [
    "fruits = [\"apple\", \"orange\", \"bannana\"]\n",
    "print(fruits[0]) #apple\n",
    "print(fruits[-1]) #bannana"
   ]
  },
  {
   "cell_type": "markdown",
   "metadata": {},
   "source": [
    "## Slicing"
   ]
  },
  {
   "cell_type": "code",
   "execution_count": 5,
   "metadata": {},
   "outputs": [],
   "source": [
    "sublist = fruits[1:3] #['orange', 'bannana']\n"
   ]
  },
  {
   "cell_type": "code",
   "execution_count": 12,
   "metadata": {},
   "outputs": [
    {
     "name": "stdout",
     "output_type": "stream",
     "text": [
      "[10, 20, 30, 40, 50]\n",
      "[10, 20, 30, 40, 50, 60, 70]\n"
     ]
    }
   ],
   "source": [
    "# Common List Methods\n",
    "\n",
    "# append(item) -> Add an item to the end of the list\n",
    "numbers = [10, 20, 30, 40]\n",
    "numbers.append(50)  # [10, 20, 30, 40, 50]\n",
    "print(numbers)\n",
    "\n",
    "# extend(iterable) -> Extends list by appending elements to the list\n",
    "numbers.extend([60, 70])\n",
    "print(numbers)  # [10, 20, 30, 40, 50, 60, 70]\n"
   ]
  },
  {
   "cell_type": "code",
   "execution_count": 13,
   "metadata": {},
   "outputs": [
    {
     "name": "stdout",
     "output_type": "stream",
     "text": [
      "[10, 20, 25, 30, 40, 50, 60, 70]\n"
     ]
    }
   ],
   "source": [
    "#insert(index, item)-> Inserts item at specific index. \n",
    "\n",
    "numbers.insert(2, 25)\n",
    "print(numbers)  # [10, 20, 25, 30, 40, 50, 60, 70] "
   ]
  },
  {
   "cell_type": "code",
   "execution_count": 14,
   "metadata": {},
   "outputs": [
    {
     "name": "stdout",
     "output_type": "stream",
     "text": [
      "[10, 20, 30, 40, 50, 60, 70]\n"
     ]
    }
   ],
   "source": [
    "#remove(item) -> Removes first occurance of item from list. \n",
    "\n",
    "numbers.remove(25)\n",
    "print(numbers)  # [10, 20, 30, 40, 50, 60, 70]"
   ]
  },
  {
   "cell_type": "code",
   "execution_count": 15,
   "metadata": {},
   "outputs": [
    {
     "name": "stdout",
     "output_type": "stream",
     "text": [
      "[10, 20, 40, 50, 60, 70]\n",
      "30\n"
     ]
    }
   ],
   "source": [
    "#pop(index) -> Removes and returns item at index of list \n",
    "\n",
    "popped_item = numbers.pop(2)\n",
    "print(numbers)  # [10, 20, 40, 50, 60, 70]\n",
    "print(popped_item)  # 30"
   ]
  },
  {
   "cell_type": "code",
   "execution_count": 16,
   "metadata": {},
   "outputs": [
    {
     "name": "stdout",
     "output_type": "stream",
     "text": [
      "2\n"
     ]
    }
   ],
   "source": [
    "#index(item)-> Returns index of firt occurance of item in the list \n",
    "\n",
    "print(numbers.index(40))  # 2 "
   ]
  },
  {
   "cell_type": "code",
   "execution_count": 17,
   "metadata": {},
   "outputs": [
    {
     "name": "stdout",
     "output_type": "stream",
     "text": [
      "1\n"
     ]
    }
   ],
   "source": [
    "#count(item) -> Counts occurances of itmes. \n",
    "\n",
    "print(numbers.count(40))  # 1"
   ]
  },
  {
   "cell_type": "code",
   "execution_count": 19,
   "metadata": {},
   "outputs": [
    {
     "name": "stdout",
     "output_type": "stream",
     "text": [
      "[70, 60, 50, 40, 20, 10]\n"
     ]
    }
   ],
   "source": [
    "#reverse() -> Reverses the list\n",
    "\n",
    "numbers.reverse()\n",
    "print(numbers)  # [70, 60, 50, 40, 20, 10]"
   ]
  },
  {
   "cell_type": "code",
   "execution_count": 20,
   "metadata": {},
   "outputs": [
    {
     "name": "stdout",
     "output_type": "stream",
     "text": [
      "[10, 20, 40, 50, 60, 70]\n"
     ]
    }
   ],
   "source": [
    "#sort() -> Sort the list in ascending order\n",
    "\n",
    "numbers.sort()\n",
    "print(numbers)  # [10, 20, 40, 50, 60, 70]"
   ]
  },
  {
   "cell_type": "code",
   "execution_count": 22,
   "metadata": {},
   "outputs": [
    {
     "name": "stdout",
     "output_type": "stream",
     "text": [
      "[]\n"
     ]
    }
   ],
   "source": [
    "#clear() -> Removes all items from the list\n",
    "\n",
    "numbers.clear()\n",
    "print(numbers)  # []"
   ]
  },
  {
   "cell_type": "markdown",
   "metadata": {},
   "source": [
    "### Iterating through a list"
   ]
  },
  {
   "cell_type": "code",
   "execution_count": 27,
   "metadata": {},
   "outputs": [
    {
     "name": "stdout",
     "output_type": "stream",
     "text": [
      "1\n",
      "2\n",
      "3\n",
      "4\n",
      "5\n",
      "6\n",
      "7\n",
      "8\n",
      "9\n"
     ]
    }
   ],
   "source": [
    "#Using for loop:\n",
    "numbers.extend([1,2,3,4,5,6,7,8,9])\n",
    "for num in numbers:\n",
    "    print(num)"
   ]
  },
  {
   "cell_type": "code",
   "execution_count": 28,
   "metadata": {},
   "outputs": [
    {
     "name": "stdout",
     "output_type": "stream",
     "text": [
      "Index: 0, Number: 1\n",
      "Index: 1, Number: 2\n",
      "Index: 2, Number: 3\n",
      "Index: 3, Number: 4\n",
      "Index: 4, Number: 5\n",
      "Index: 5, Number: 6\n",
      "Index: 6, Number: 7\n",
      "Index: 7, Number: 8\n",
      "Index: 8, Number: 9\n"
     ]
    }
   ],
   "source": [
    "#Using enumerate() for index and value:\n",
    "\n",
    "for index, num in enumerate(numbers):\n",
    "    print(f\"Index: {index}, Number: {num}\")"
   ]
  },
  {
   "cell_type": "markdown",
   "metadata": {},
   "source": [
    "### List Comprehension"
   ]
  },
  {
   "cell_type": "code",
   "execution_count": 29,
   "metadata": {},
   "outputs": [],
   "source": [
    "# Basic example:"
   ]
  },
  {
   "cell_type": "code",
   "execution_count": null,
   "metadata": {},
   "outputs": [
    {
     "name": "stdout",
     "output_type": "stream",
     "text": [
      "[0, 1, 4, 9, 16, 25, 36, 49, 64, 81]\n"
     ]
    }
   ],
   "source": [
    "squared = [x**2 for x in range(10)]\n",
    "print(squared) # [0, 1, 4, 9, 16, 25, 36, 49, 64, 81]"
   ]
  },
  {
   "cell_type": "code",
   "execution_count": 32,
   "metadata": {},
   "outputs": [
    {
     "name": "stdout",
     "output_type": "stream",
     "text": [
      "[0, 4, 16, 36, 64]\n"
     ]
    }
   ],
   "source": [
    "#With conditions:\n",
    "\n",
    "even_squared = [x**2 for x in range(10) if x % 2 == 0]\n",
    "print(even_squared) # [0, 4, 16, 36, 64]"
   ]
  },
  {
   "cell_type": "markdown",
   "metadata": {},
   "source": [
    "### Advanced List Techniques"
   ]
  },
  {
   "cell_type": "code",
   "execution_count": 33,
   "metadata": {},
   "outputs": [
    {
     "name": "stdout",
     "output_type": "stream",
     "text": [
      "[1, 2, 3, 4, 5, 6, 7, 8, 9]\n"
     ]
    }
   ],
   "source": [
    "#Nested lists:\n",
    "\n",
    "nested_list = [[1,2,3], [4,5,6], [7,8,9]]\n",
    "flattened_list = [num for sublist in nested_list for num in sublist]\n",
    "print(flattened_list) # [1, 2, 3, 4, 5, 6, 7, 8, 9]"
   ]
  },
  {
   "cell_type": "markdown",
   "metadata": {},
   "source": [
    "### Common List Operations:"
   ]
  },
  {
   "cell_type": "code",
   "execution_count": 34,
   "metadata": {},
   "outputs": [
    {
     "name": "stdout",
     "output_type": "stream",
     "text": [
      "[1, 2, 3, 4, 5, 6]\n"
     ]
    }
   ],
   "source": [
    "# Concatenation -> list1 + list2\n",
    "\n",
    "list1 = [1,2,3]\n",
    "list2 = [4,5,6]\n",
    "concatenated_list = list1 + list2\n",
    "print(concatenated_list) # [1, 2, 3, 4, 5, 6]\n",
    "# Repetition -> list * n"
   ]
  },
  {
   "cell_type": "code",
   "execution_count": 35,
   "metadata": {},
   "outputs": [
    {
     "name": "stdout",
     "output_type": "stream",
     "text": [
      "[1, 2, 3, 1, 2, 3, 1, 2, 3]\n"
     ]
    }
   ],
   "source": [
    "#Repetiotion -> list1 * n\n",
    "\n",
    "repeated_list = list1 * 3\n",
    "print(repeated_list) # [1, 2, 3, 1, 2, 3, 1, 2, 3]"
   ]
  },
  {
   "cell_type": "code",
   "execution_count": 36,
   "metadata": {},
   "outputs": [
    {
     "data": {
      "text/plain": [
       "True"
      ]
     },
     "execution_count": 36,
     "metadata": {},
     "output_type": "execute_result"
    }
   ],
   "source": [
    "#Membership Testing -> \n",
    "1 in list1 # True"
   ]
  },
  {
   "cell_type": "code",
   "execution_count": 37,
   "metadata": {},
   "outputs": [
    {
     "data": {
      "text/plain": [
       "3"
      ]
     },
     "execution_count": 37,
     "metadata": {},
     "output_type": "execute_result"
    }
   ],
   "source": [
    "#Length ->\n",
    "\n",
    "len(list1) # 3"
   ]
  },
  {
   "cell_type": "code",
   "execution_count": 38,
   "metadata": {},
   "outputs": [
    {
     "name": "stdout",
     "output_type": "stream",
     "text": [
      "1 3\n"
     ]
    }
   ],
   "source": [
    "#Minimum/Maximum->\n",
    "\n",
    "min_value = min(list1)\n",
    "max_value = max(list1)\n",
    "print(min_value, max_value) # 1 3"
   ]
  },
  {
   "cell_type": "code",
   "execution_count": 39,
   "metadata": {},
   "outputs": [
    {
     "name": "stdout",
     "output_type": "stream",
     "text": [
      "6\n"
     ]
    }
   ],
   "source": [
    "#Sum->\n",
    "\n",
    "sum_value = sum(list1)\n",
    "print(sum_value) # 6"
   ]
  },
  {
   "cell_type": "markdown",
   "metadata": {},
   "source": [
    "### Few exmaples and exercises->"
   ]
  },
  {
   "cell_type": "code",
   "execution_count": 40,
   "metadata": {},
   "outputs": [
    {
     "name": "stdout",
     "output_type": "stream",
     "text": [
      "[5, 4, 3, 2, 1]\n"
     ]
    }
   ],
   "source": [
    "#Exercise 1-> Reverse a list->\n",
    "\n",
    "numbers = [1,2,3,4,5]\n",
    "reversed_numbers = numbers[::-1]\n",
    "print(reversed_numbers) # [5, 4, 3, 2, 1]"
   ]
  },
  {
   "cell_type": "code",
   "execution_count": 41,
   "metadata": {},
   "outputs": [
    {
     "name": "stdout",
     "output_type": "stream",
     "text": [
      "[1, 2, 3, 4, 5]\n"
     ]
    }
   ],
   "source": [
    "#Exercise 2->Remove Duplicates->\n",
    "\n",
    "numbers = [1,2,2,3,3,3,4,4,4,4,5]\n",
    "unique_numbers = list(set(numbers))\n",
    "print(unique_numbers) # [1, 2, 3, 4, 5]"
   ]
  },
  {
   "cell_type": "code",
   "execution_count": 42,
   "metadata": {},
   "outputs": [
    {
     "name": "stdout",
     "output_type": "stream",
     "text": [
      "5\n"
     ]
    }
   ],
   "source": [
    "#Exercise 3-> Find the largest nuumber in a list\n",
    "\n",
    "numbers = [1,2,3,4,5]\n",
    "max_number = max(numbers)\n",
    "print(max_number) # 5"
   ]
  },
  {
   "cell_type": "code",
   "execution_count": 43,
   "metadata": {},
   "outputs": [
    {
     "name": "stdout",
     "output_type": "stream",
     "text": [
      "[1, 2, 3, 4, 5, 6, 7, 8]\n"
     ]
    }
   ],
   "source": [
    "#Exercise 4-> Write program to merge two sorted list into one\n",
    "\n",
    "list1 = [1,3,5,7]\n",
    "list2 = [2,4,6,8]\n",
    "merged_list = sorted(list1 + list2)\n",
    "print(merged_list) # [1, 2, 3, 4, 5, 6, 7, 8]"
   ]
  },
  {
   "cell_type": "code",
   "execution_count": 44,
   "metadata": {},
   "outputs": [
    {
     "name": "stdout",
     "output_type": "stream",
     "text": [
      "[1, 3, 5]\n"
     ]
    }
   ],
   "source": [
    "numbers = [1, 2, 3, 4, 5]\n",
    "for num in numbers:\n",
    "    if num % 2 == 0:\n",
    "        numbers.remove(num)\n",
    "print(numbers)  # Output: [1, 3, 5]"
   ]
  },
  {
   "cell_type": "markdown",
   "metadata": {},
   "source": [
    "### Best Practices for Working with Python Lists"
   ]
  },
  {
   "cell_type": "code",
   "execution_count": 48,
   "metadata": {},
   "outputs": [
    {
     "name": "stdout",
     "output_type": "stream",
     "text": [
      "[1, 4, 9, 16, 25]\n",
      "[1, 4, 9, 16, 25]\n",
      "[2, 4]\n",
      "[2, 4]\n"
     ]
    }
   ],
   "source": [
    "# Use List Comprehension for Concise and Efficient Code\n",
    "# List comprehensions provide a more readable and concise way to create or transform lists compared to traditional loops.\n",
    "\n",
    "# Example: Creating a list of squares\n",
    "\n",
    "#Using loops \n",
    "\n",
    "numbers = [1, 2, 3, 4, 5]\n",
    "squares = []\n",
    "for num in numbers:\n",
    "    squares.append(num ** 2)\n",
    "print(squares)  # Output: [1, 4, 9, 16, 25]\n",
    "\n",
    "#Uising list comprehension->\n",
    "numbers = [1, 2, 3, 4, 5]\n",
    "squares = [num ** 2 for num in numbers]\n",
    "print(squares)  # Output: [1, 4, 9, 16, 25]\n",
    "\n",
    "\n",
    "\n",
    "# Example: Filtering even numbers\n",
    "#Using loops->\n",
    "\n",
    "numbers = [1, 2, 3, 4, 5]\n",
    "evens = []\n",
    "for num in numbers:\n",
    "    if num % 2 == 0:\n",
    "        evens.append(num)\n",
    "print(evens)  # Output: [2, 4]\n",
    "\n",
    "\n",
    "#Using list comprehension->\n",
    "\n",
    "numbers = [1, 2, 3, 4, 5]\n",
    "evens = [num for num in numbers if num % 2 == 0]\n",
    "print(evens)  # Output: [2, 4]"
   ]
  },
  {
   "cell_type": "code",
   "execution_count": 49,
   "metadata": {},
   "outputs": [
    {
     "name": "stdout",
     "output_type": "stream",
     "text": [
      "[1, 2, 3, 4]\n",
      "[1, 2, 3]\n",
      "[1, 2, 3]\n"
     ]
    }
   ],
   "source": [
    "#2. Use copy() or list() for Creating a Shallow Copy\n",
    "# When you assign one list to another, both variables reference the same object. Modifying one will affect the other. Instead, use copy() or list() to create a shallow copy.\n",
    "\n",
    "#Problem with direct assignment->\n",
    "\n",
    "original = [1, 2, 3]\n",
    "copied = original\n",
    "copied.append(4)\n",
    "print(original)  # Output: [1, 2, 3, 4]\n",
    "#both original and copiied refrencing the same list\n",
    "\n",
    "#Using copy() to create a shallow copy->\n",
    "\n",
    "original = [1, 2, 3]\n",
    "copied = list(original)\n",
    "copied.append(4)\n",
    "print(original)  # Output: [1, 2, 3]\n",
    "#original and copied are now independent lists.\n",
    "\n",
    "# Using list() to create a shallow copy->\n",
    "\n",
    "original = [1, 2, 3]\n",
    "copied = list(original)\n",
    "copied.append(4)\n",
    "print(original)  # Output: [1, 2, 3]\n",
    "#original and copied are now independent lists.\n"
   ]
  },
  {
   "cell_type": "code",
   "execution_count": 64,
   "metadata": {},
   "outputs": [
    {
     "name": "stdout",
     "output_type": "stream",
     "text": [
      "[1, 2, 3, 5]\n",
      "[1, 3, 5]\n",
      "[1, 3, 5]\n",
      "[1, 3, 5]\n"
     ]
    }
   ],
   "source": [
    "# Avoid Modifying Lists While Iterating\n",
    "# Modifying a list while iterating over it can lead to unexpected behavior or errors.\n",
    "\n",
    "# problem-> \n",
    "numbers = [1, 2, 2, 3, 4, 5]\n",
    "for num in numbers:\n",
    "    if num % 2 == 0:\n",
    "        numbers.remove(num)\n",
    "print(numbers)  # Output: [1, 2, 3, 5]\n",
    "\n",
    "# 1. Unpredictable Behavior in Complex Cases\n",
    "# In your example, the behavior happens to match the desired output, but this is not guaranteed in other situations. For instance:\n",
    "\n",
    "# If the list has repeated or adjacent elements, unintended elements might be skipped.\n",
    "# If the logic of the removal becomes more complex (e.g., based on multiple conditions), it may cause subtle bugs.\n",
    "# The loop skips the second 2 because indices shift after the removal of the first 2. This is unexpected behavior and can cause bugs.\n",
    "\n",
    "# Solution 1: Iterating Over a Copy\n",
    "\n",
    "numbers = [1, 2, 2, 3, 4, 5]\n",
    "copied_numbers = numbers.copy()\n",
    "for num in copied_numbers:\n",
    "    if num % 2 == 0:\n",
    "        numbers.remove(num)\n",
    "print(numbers) #[1, 3, 5]\n",
    "\n",
    "#Solution 2: Iterating over copy using slicing \n",
    "\n",
    "numbers = [1, 2, 2, 3, 4, 5]\n",
    "for num in numbers[:]:\n",
    "    if num % 2 == 0:\n",
    "        numbers.remove(num)\n",
    "print(numbers)\n",
    "\n",
    "# Why Does This Work?\n",
    "# Mechanics: The slicing operation numbers[:] creates a shallow copy of the list. The loop iterates over the copy, but modifications (remove) are made on the original list.\n",
    "# This avoids the issue of indices shifting because the loop’s iteration is independent of the original list.\n",
    "\n",
    "\n",
    "#Solution 3:Using List Compression\n",
    "\n",
    "numbers = [1, 2, 2, 3, 4, 5]\n",
    "numbers = [num for num in numbers if num % 2!= 0]\n",
    "print(numbers) #[1, 3, 5]\n",
    "\n",
    "# Why Does This Work?\n",
    "# Mechanics: List comprehension creates a new list by iterating over the original list and including only the elements that satisfy the condition (num % 2 != 0).\n",
    "# Since a new list is created, the original list is unaffected by any shifts, and there’s no need to remove elements explicitly.\n"
   ]
  },
  {
   "cell_type": "code",
   "execution_count": 65,
   "metadata": {},
   "outputs": [
    {
     "name": "stdout",
     "output_type": "stream",
     "text": [
      "[[1, 4, 7], [2, 5, 8], [3, 6, 9]]\n"
     ]
    }
   ],
   "source": [
    "#Matrix Transpose->\n",
    "matrix = [[1, 2, 3], [4, 5, 6], [7, 8, 9]]\n",
    "transpose = [[row[i] for row in matrix] for i in range(len(matrix[0]))]\n",
    "print(transpose)  # Output: [[1, 4, 7], [2, 5, 8], [3, 6, 9]]\n"
   ]
  },
  {
   "cell_type": "code",
   "execution_count": null,
   "metadata": {},
   "outputs": [
    {
     "name": "stdout",
     "output_type": "stream",
     "text": [
      "[6, 9, 30]\n"
     ]
    }
   ],
   "source": [
    "#List Comprehension with list functions\n",
    "#: Using sum() on Nested Lists\n",
    "nested_list= [[1, 2, 3], [4,5], [6, 7,8,9]]\n",
    "sums = [sum(sublist) for sublist in nested_list]\n",
    "print(sums) # Output: [6,9,30]\n"
   ]
  },
  {
   "cell_type": "code",
   "execution_count": 68,
   "metadata": {},
   "outputs": [
    {
     "name": "stdout",
     "output_type": "stream",
     "text": [
      "[5, 6, 6, 4]\n"
     ]
    }
   ],
   "source": [
    "#Using len() function :\n",
    "words = [\"apple\", \"banana\", \"cherry\", \"date\"]\n",
    "lengths = [len(word) for word in words]\n",
    "print(lengths) # Output: [5,6,6,4]"
   ]
  },
  {
   "cell_type": "code",
   "execution_count": 71,
   "metadata": {},
   "outputs": [
    {
     "name": "stdout",
     "output_type": "stream",
     "text": [
      "[30, 40, 35]\n"
     ]
    }
   ],
   "source": [
    "#Using max on nested lists->\n",
    "nested_list = [[10, 2, 30], [40, 15], [25, 35, 5]]\n",
    "max_values = [max(sublist) for sublist in nested_list]\n",
    "print(max_values) #[30, 40, 35]"
   ]
  },
  {
   "cell_type": "code",
   "execution_count": null,
   "metadata": {},
   "outputs": [
    {
     "name": "stdout",
     "output_type": "stream",
     "text": [
      "[1, 4, 9, 16, 25]\n"
     ]
    }
   ],
   "source": [
    "#Apply a custom function->\n",
    "def square(num):\n",
    "    return num ** 2\n",
    "\n",
    "numbers = [1, 2, 3, 4, 5]\n",
    "squared = [square(num) for num in numbers]\n",
    "print(squared)  # Output: [1, 4, 9, 16, 25]\n"
   ]
  },
  {
   "cell_type": "code",
   "execution_count": 73,
   "metadata": {},
   "outputs": [
    {
     "name": "stdout",
     "output_type": "stream",
     "text": [
      "[(1, 'a'), (1, 'b'), (1, 'c'), (2, 'a'), (2, 'b'), (2, 'c'), (3, 'a'), (3, 'b'), (3, 'c')]\n"
     ]
    }
   ],
   "source": [
    "#Generate a cartesian product->\n",
    "list1 = [1, 2, 3]\n",
    "list2 = ['a', 'b', 'c']\n",
    "cartesian_product = [(x, y) for x in list1 for y in list2]\n",
    "print(cartesian_product)  # Output: [(1, 'a'), (1, 'b'), (1, 'c'), (2, 'a'), ...]\n"
   ]
  },
  {
   "cell_type": "code",
   "execution_count": null,
   "metadata": {},
   "outputs": [],
   "source": []
  }
 ],
 "metadata": {
  "kernelspec": {
   "display_name": "Python 3",
   "language": "python",
   "name": "python3"
  },
  "language_info": {
   "codemirror_mode": {
    "name": "ipython",
    "version": 3
   },
   "file_extension": ".py",
   "mimetype": "text/x-python",
   "name": "python",
   "nbconvert_exporter": "python",
   "pygments_lexer": "ipython3",
   "version": "3.12.3"
  }
 },
 "nbformat": 4,
 "nbformat_minor": 2
}
